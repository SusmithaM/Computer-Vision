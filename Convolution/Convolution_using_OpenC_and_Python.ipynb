{
 "cells": [
  {
   "cell_type": "code",
   "execution_count": 23,
   "metadata": {
    "ExecuteTime": {
     "end_time": "2019-08-13T21:24:20.703510Z",
     "start_time": "2019-08-13T21:24:20.700254Z"
    }
   },
   "outputs": [],
   "source": [
    "import numpy as np\n",
    "import cv2\n",
    "import pandas as pd\n",
    "from random import randint\n",
    "from skimage.exposure import rescale_intensity\n",
    "from IPython.display import Image\n"
   ]
  },
  {
   "cell_type": "code",
   "execution_count": 24,
   "metadata": {
    "ExecuteTime": {
     "end_time": "2019-08-13T21:24:21.238988Z",
     "start_time": "2019-08-13T21:24:21.224525Z"
    }
   },
   "outputs": [],
   "source": [
    "# construct average blurring kernels used to smooth an image\n",
    "smallBlur = np.ones((7, 7), dtype=\"float\") * (1.0 / (7 * 7))\n",
    "largeBlur = np.ones((21, 21), dtype=\"float\") * (1.0 / (21 * 21))\n",
    "# construct a sharpening filter\n",
    "sharpen = np.array((\n",
    "    [0, -1, 0],\n",
    "    [-1, 5, -1],\n",
    "    [0, -1, 0]), dtype=\"int\")\n",
    "# construct the Laplacian kernel used to detect edge-like\n",
    "# regions of an image\n",
    "laplacian = np.array((\n",
    "    [0, 1, 0],\n",
    "    [1, -4, 1],\n",
    "    [0, 1, 0]), dtype=\"int\")\n",
    "# construct the Sobel x-axis kernel\n",
    "sobelX = np.array((\n",
    "    [-1, 0, 1],\n",
    "    [-2, 0, 2],\n",
    "    [-1, 0, 1]), dtype=\"int\")\n",
    "# construct the Sobel y-axis kernel\n",
    "sobelY = np.array((\n",
    "    [-1, -2, -1],\n",
    "    [0, 0, 0],\n",
    "    [1, 2, 1]), dtype=\"int\")\n",
    "kernel = sobelY\n",
    "image = cv2.imread(\"cvImage1.jpg\", -1)\n",
    "#converting to grayscale\n",
    "gray = cv2.cvtColor(image, cv2.COLOR_BGR2GRAY)"
   ]
  },
  {
   "cell_type": "code",
   "execution_count": 26,
   "metadata": {
    "ExecuteTime": {
     "end_time": "2019-08-13T21:25:26.155044Z",
     "start_time": "2019-08-13T21:25:26.146142Z"
    },
    "scrolled": true
   },
   "outputs": [],
   "source": [
    "def convolve(image, kernel):\n",
    "    # take the dimensions of image and kernel\n",
    "    (iH, iW) = image.shape[:2]\n",
    "    (kH, kW) = kernel.shape[:2]\n",
    "    #print(iH, iW)\n",
    "    #print(kH, kW)\n",
    "    #'pad' the borders of input image, so the size is not reduced\n",
    "    '''\n",
    "    Here we are simply replicating the pixels along the border of the image, \n",
    "    such that the output image will match the dimensions of the input image.\n",
    "    Padding techniques : \n",
    "    - filling the borders with zeros — very common when building Convolutional Neural Networks) and \n",
    "    - wrap around (where the border pixels are determined by examining the opposite end of the image)\n",
    "    - replicate\n",
    "    '''\n",
    "    pad = (kW-1)//2\n",
    "    value = [randint(0, 255), randint(0, 255), randint(0, 255)]\n",
    "\n",
    "    #cv2.BORDER_CONSTANT => will produce random color border\n",
    "    #cv2.BORDER_REPLICATE => will replicate the edge pixel\n",
    "\n",
    "    image = cv2.copyMakeBorder(image, pad, pad, pad, pad, cv2.BORDER_REPLICATE, None, value)\n",
    "    output = np.zeros((iH, iW), dtype = \"float32\")\n",
    "    \n",
    "    '''\n",
    "     loop over the input image, \"sliding\" the kernel across \n",
    "     each (x, y)-coordinate from left-to-right and top to bottom\n",
    "    '''\n",
    "    for y in np.arange(pad, iH+pad):\n",
    "        for x in np.arange(pad, iW+pad):\n",
    "            '''\n",
    "            extract the ROI(Region of Interest) of the image by extracting the \n",
    "            *center* region of the current (x, y)-coordinates dimensions\n",
    "            '''\n",
    "            roi = image[y - pad:y + pad + 1, x - pad:x + pad + 1]\n",
    "            '''\n",
    "            perform the actual convolution by taking the element-wise \n",
    "            multiplicate between the ROI and the kernel, then summing the matrix\n",
    "            '''\n",
    "            k = (roi[:,:,0] * kernel).sum()\n",
    "            # store the result in output\n",
    "            output[y - pad, x - pad] = k\n",
    "    \n",
    "\n",
    "\n",
    "    # rescale the output image to be in the range [0, 255]\n",
    "    output = rescale_intensity(output, in_range=(0, 255))\n",
    "    output = (output * 255).astype(\"uint8\")\n",
    "    return output\n",
    "    \n",
    "    '''\n",
    "    cv2.imshow('op1', output)\n",
    "    cv2.waitKey(0)\n",
    "    cv2.destroyAllWindows       \n",
    "    '''"
   ]
  },
  {
   "cell_type": "code",
   "execution_count": 27,
   "metadata": {
    "ExecuteTime": {
     "end_time": "2019-08-13T21:25:58.032509Z",
     "start_time": "2019-08-13T21:25:27.197794Z"
    }
   },
   "outputs": [
    {
     "name": "stdout",
     "output_type": "stream",
     "text": [
      "[INFO] applying small_blur kernel\n",
      "[INFO] applying large_blur kernel\n",
      "[INFO] applying sharpen kernel\n",
      "[INFO] applying laplacian kernel\n",
      "[INFO] applying sobel_x kernel\n",
      "[INFO] applying sobel_y kernel\n"
     ]
    }
   ],
   "source": [
    "kernelBank = (\n",
    "    (\"small_blur\", smallBlur),\n",
    "    (\"large_blur\", largeBlur),\n",
    "    (\"sharpen\", sharpen),\n",
    "    (\"laplacian\", laplacian),\n",
    "    (\"sobel_x\", sobelX),\n",
    "    (\"sobel_y\", sobelY)\n",
    ")\n",
    "for (kernelName, kernel) in kernelBank:\n",
    "    # apply the kernel to the grayscale image using both\n",
    "    # our custom `convole` function and OpenCV's `filter2D`\n",
    "    # function\n",
    "    print(\"[INFO] applying {} kernel\".format(kernelName))\n",
    "    convoleOutput = convolve(image, kernel)\n",
    "    opencvOutput = cv2.filter2D(gray, -1, kernel)\n",
    " \n",
    "    # show the output images\n",
    "    cv2.imshow(\"original\", image)\n",
    "    cv2.imshow(\"{} - convole\".format(kernelName), convoleOutput)\n",
    "    '''\n",
    "    As a sanity check, we also call 'cv2.filter2D'  which also applies our kernel  \n",
    "    to the gray  image. The cv2.filter2D  function is a much more optimized version \n",
    "    of our convolve  function. \n",
    "    '''\n",
    "    #cv2.imshow(\"{} - opencv\".format(kernelName), opencvOutput)\n",
    "    cv2.waitKey(0)\n",
    "    cv2.destroyAllWindows()"
   ]
  },
  {
   "cell_type": "code",
   "execution_count": null,
   "metadata": {},
   "outputs": [],
   "source": []
  }
 ],
 "metadata": {
  "kernelspec": {
   "display_name": "Python 3",
   "language": "python",
   "name": "python3"
  },
  "language_info": {
   "codemirror_mode": {
    "name": "ipython",
    "version": 3
   },
   "file_extension": ".py",
   "mimetype": "text/x-python",
   "name": "python",
   "nbconvert_exporter": "python",
   "pygments_lexer": "ipython3",
   "version": "3.6.8"
  }
 },
 "nbformat": 4,
 "nbformat_minor": 2
}
